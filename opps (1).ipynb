{
  "nbformat": 4,
  "nbformat_minor": 0,
  "metadata": {
    "colab": {
      "provenance": []
    },
    "kernelspec": {
      "name": "python3",
      "display_name": "Python 3"
    },
    "language_info": {
      "name": "python"
    }
  },
  "cells": [
    {
      "cell_type": "markdown",
      "source": [
        "Q1. What is Object-Oriented Programming (OOP)+\n",
        "\n",
        " Object-oriented programming (OOP) is a programming paradigm that structures software design around data, or objects, rather than functions and logic. It's a way of thinking about programming that models real-world entities and their interactions. OOP relies on core concepts like classes, objects, inheritance, encapsulation, polymorphism, and abstraction.\n",
        "\n",
        "# Key Concepts in OOP:\n",
        "*  **Classes:**\n",
        "Blueprints or templates for creating objects, defining their properties (data) and behaviors (functions).\n",
        "*  **Objects:**\n",
        "Instances of classes, representing specific entities in the system.\n",
        "*  **Inheritance:**\n",
        "Allows a class to inherit properties and behaviors from another class, promoting code reuse and creating a hierarchical relationship between classes.\n",
        "*  **Encapsulation:**\n",
        "Bundling data (attributes) and methods (functions) that operate on the data within a class, hiding internal details and protecting data from external access.\n",
        "*  **Polymorphism:**\n",
        "The ability of objects of different classes to respond to the same method call in their own way, providing flexibility and adaptability.\n",
        "*  **Abstraction:**\n",
        "Hiding complex implementation details and exposing only essential information to the user, simplifying interaction with objects.\n",
        "# Benefits of OOP:\n",
        "*  **Modularity:**\n",
        "Code is organized into reusable, self-contained units (objects and classes), making it easier to manage and maintain, especially in large projects.\n",
        "*  **Reusability:**\n",
        "Inheritance and polymorphism promote code reuse, reducing development time and effort.\n",
        "* **Maintainability:**\n",
        "Changes in one part of the code are less likely to affect other parts due to encapsulation and modularity.\n",
        "*  **Extensibility:**\n",
        "OOP makes it easier to add new features and functionality to existing codebases"
      ],
      "metadata": {
        "id": "qDBxvDDsVIX_"
      }
    },
    {
      "cell_type": "markdown",
      "source": [
        "Q2.  What is a class in OOP+?\n",
        "\n",
        "In Object-Oriented Programming (OOP), a class is a blueprint or template for creating objects (which are instances of the class). It defines the structure and behavior (data and methods) that the objects created from the class will have.\n",
        "\n",
        "**Key Concepts of a Class:**\n",
        "* Attributes (Data Members): Variables that store the state of the object.\n",
        "\n",
        "*  Methods (Member Functions): Functions that define the behavior of the object.\n",
        "\n",
        "*  Objects: Instances created from the class."
      ],
      "metadata": {
        "id": "gwoUOQw-VHlq"
      }
    },
    {
      "cell_type": "markdown",
      "source": [
        "Q3. What is an object in OOP+\n",
        "\n",
        "An object is a self-contained unit that consists of both data (variables) and functions (methods) to operate on the data.\n",
        "*  Objects are created from classes.\n",
        "\n",
        "* Each object has its own copy of attributes.\n",
        "\n",
        "*  Objects can interact with one another.\n",
        "\n",
        "*  You can create many objects from the same class."
      ],
      "metadata": {
        "id": "YauoNZgTZHQ9"
      }
    },
    {
      "cell_type": "markdown",
      "source": [
        "Q4 What is the difference between abstraction and encapsulation+\n",
        "\n",
        "bstraction and encapsulation are fundamental concepts in object-oriented programming, often discussed together but addressing distinct aspects of software design:\n",
        "# Abstraction:\n",
        "*  **Focus:**\n",
        "Abstraction focuses on hiding complexity and showing only the essential features of an object or system. It defines what an object does, rather than how it does it.\n",
        "*   **Purpose:**\n",
        "It simplifies the representation of complex systems by providing a high-level view, allowing users to interact with objects without needing to understand their intricate internal workings.\n",
        "*  **Implementation:**\n",
        "Abstraction is typically achieved through abstract classes and interfaces, which define a contract of behavior without providing concrete implementations.\n",
        "# Encapsulation:\n",
        "*  **Focus:**\n",
        "Encapsulation focuses on bundling data and the methods that operate on that data within a single unit (like a class) and controlling access to that data. It ensures data integrity and security.\n",
        "*  **Purpose:**\n",
        "It protects the internal state of an object from unauthorized access or modification, ensuring that data is accessed and manipulated only through defined interfaces (e.g., getter and setter methods).\n",
        "*  **Implementation:**\n",
        "Encapsulation is primarily achieved through access modifiers (like private, protected, public) that restrict the visibility and accessibility of data members and methods.\n",
        "\n",
        "\n",
        "\n",
        "\n",
        "\n",
        "\n"
      ],
      "metadata": {
        "id": "BGf7OTi-ZHN1"
      }
    },
    {
      "cell_type": "markdown",
      "source": [
        "Q 5What are dunder methods in Python?\n",
        "\n",
        "Dunder methods (short for \"Double UNDERscore\") are special methods in Python that have two underscores at the beginning and end, like __init__, __str__, __add__, etc.  \n",
        "\n",
        "**Key characteristics and uses of dunder methods:**\n",
        "\n",
        "*  **Operator Overloading:**\n",
        "They allow you to define how operators (like +, -, ==, >) behave when applied to instances of your custom classes. For example, _______add___ defines the behavior of the + operator.\n",
        "*  **Built-in Function Integration:**\n",
        "They enable your objects to work seamlessly with built-in functions like len(), str(), bool(), etc. For instance, ______len___defines what len() returns for your object.\n",
        "*  **Object Initialization and Representation:**\n",
        "__init__ is the constructor method, called when an object is created. ______str__ and ______repr___ define how an object is represented as a string for users and developers, respectively.\n",
        "*  **Context Management:**\n",
        "Methods like _______enter___ and _______exit___ are used for context managers, allowing objects to manage resources (e.g., files, network connections) within with statements.\n",
        "*  **Iteration:**\n",
        "______iter__ and ______next___ are used to make objects iterable, allowing them to be used in for loops."
      ],
      "metadata": {
        "id": "nrnRMiyhZHId"
      }
    },
    {
      "cell_type": "markdown",
      "source": [
        "Q6. Explain the concept of inheritance in OOPS?\n",
        "\n",
        "Inheritance is a fundamental concept in Object-Oriented Programming (OOP) that allows a new class (called child or derived class) to reuse the properties and methods of an existing class (called parent or base class).\n",
        "*  **Code Reusability:**\n",
        "Inheritance promotes code reusability by allowing the child class to utilize the code already defined in the parent class, avoiding redundant code creation.\n",
        "*  **Extension and Specialization:**\n",
        "Child classes can extend the functionality of the parent class by adding new attributes and methods, or specialize existing ones by overriding them to provide specific implementations.\n",
        "* **Hierarchical Relationships:**\n",
        "It establishes a clear hierarchy between classes, representing real-world \"is-a\" relationships (e.g., a \"Dog\" is a \"Mammal\").\n",
        "*  **Polymorphism Support:**\n",
        "Inheritance is a prerequisite for achieving polymorphism, which allows objects of different classes to be treated as objects of a common parent class.\n",
        "#Types of Inheritance:\n",
        "___While specific implementations vary by language, common types include:___\n",
        "\n",
        "*  Single Inheritance:A class inherits from only one parent class.\n",
        "*  Multilevel Inheritance: A class inherits from another class, which in turn inherits from a third class (e.g., A -> B -> C).\n",
        "*  Hierarchical Inheritance: Multiple classes inherit from a single parent class.\n",
        "*  Multiple Inheritance: A class inherits from multiple parent classes (supported in some languages like Python, but not others like Java).\n",
        "Hybrid Inheritance: A combination of two or more types of inheritance."
      ],
      "metadata": {
        "id": "3tmuBjw-ZHDM"
      }
    },
    {
      "cell_type": "markdown",
      "source": [
        "Q7.    What is polymorphism in OOP?\n",
        "\n",
        "Polymorphism in object-oriented programming (OOP) is the ability of an object to take on many forms. It allows objects of different classes to be treated as objects of a common type, enabling a single interface to be used for different underlying implementations\n",
        "\n",
        "# Key aspects of polymorphism:\n",
        "*  **One interface, many forms:**\n",
        "Polymorphism allows you to interact with objects through a common interface, regardless of their specific class.\n",
        "*  **Flexibility and adaptability:**\n",
        "It enables you to write code that can handle different object types without needing to know their exact class at compile time.\n",
        "**Code reuse:**\n",
        "Polymorphism promotes code reuse by allowing you to write functions or methods that can work with a variety of objects.\n",
        "*   **Maintainability:**\n",
        "When you need to add new functionality, you can often do so by adding new classes that implement the common interface, without modifying existing code.\n",
        "# Types of Polymorphism in OOP:\n",
        "*  **Compile-time Polymorphism (Static Polymorphism):**\n",
        "This occurs when the method to be called is determined at compile time. Function overloading and operator overloading are examples of compile-time polymorphism.\n",
        "*  **Runtime Polymorphism (Dynamic Polymorphism):**\n",
        "This occurs when the method to be called is determined at runtime. Method overriding (when a subclass provides a specific implementation of a method already defined in its superclass) is an example of runtime polymorphism."
      ],
      "metadata": {
        "id": "9g0j8AxgkKdR"
      }
    },
    {
      "cell_type": "markdown",
      "source": [
        "Q8.  How is encapsulation achieved in Python ?"
      ],
      "metadata": {
        "id": "S7zGkboDkKYr"
      }
    },
    {
      "cell_type": "markdown",
      "source": [
        "Q9. What is a constructor in Python\n",
        "\n",
        "In Python, a constructor is a special method used to initialize objects when they are created from a class. It is automatically invoked when a new instance of a class is created.\n",
        "\n",
        "**Key characteristics of a Python constructor:**\n",
        "\n",
        "*   **______init___ method:**\n",
        "In Python, the constructor is defined using the special method ______init__(). This method is part of the class definition and is recognized by Python as the constructor.\n",
        "*  **Automatic invocation:**\n",
        "When an object of a class is instantiated (e.g., my_object = MyClass()), the ______init___ method is automatically called.\n",
        "*  **self parameter:**\n",
        "The first parameter of the ______init___ method is always self, which refers to the instance of the object being created. This allows you to access and modify the object's attributes within the constructor.\n",
        "*  **Initialization of attributes:**\n",
        "Constructors are primarily used to assign initial values to the instance variables (attributes) of the object. This ensures that the object starts with a defined state.\n",
        "*  **Setup logic:**\n",
        "Beyond attribute assignment, the constructor can also contain any other setup logic or actions that need to occur when an object is created, such as calling other methods or performing validations."
      ],
      "metadata": {
        "id": "MlQJDQS5kKT7"
      }
    },
    {
      "cell_type": "markdown",
      "source": [
        "Q10. What are class and static methods in Python\n",
        "\n",
        "In Python, both class methods and static methods are defined within a class but differ in their access to class and instance data, and how they are invoked.\n",
        "# Class Methods:\n",
        "*  **Purpose:**\n",
        "Class methods are used for operations that involve the class itself, rather than specific instances of the class. They can access and modify class-level attributes.\n",
        "*  **Decorator:**\n",
        "Defined using the @classmethod decorator.\n",
        "*  **Parameter:**\n",
        "They take cls (conventionally named) as their first parameter, which refers to the class object itself. This allows them to access and modify class variables or call other class methods.\n",
        "*  **Use Cases:**\n",
        "Common for factory methods that create new instances of the class, or for methods that operate on class-level data.  class MyClass:\n",
        "\n",
        "\n",
        "    @classmethod\n",
        "    def class_method(cls):\n",
        "  \n",
        "        print(f\"Accessing class variable: {cls.class_variable}\")\n",
        "        cls.class_variable = \"Modified class variable\"\n",
        "        print(f\"Modified class variable: {cls.class_variable}\")\n",
        "\n",
        "MyClass.class_method()\n",
        "\n",
        "# Static Methods:\n",
        "* **Purpose:** Static methods are essentially utility functions that are logically grouped within a class but do not need access to instance-specific or class-level attributes. They behave like regular functions but are part of the class's namespace.\n",
        "*  **Decorator:** Defined using the @staticmethod decorator.\n",
        "*  **Parameter:**They do not take self (instance) or cls (class) as their first parameter.\n",
        "\n",
        "*  **Use Cases:**Ideal for helper functions that perform calculations or operations related to the class's domain but don't depend on the state of any particular instance or the class itself.\n",
        "\n",
        "class MathUtils:\n",
        "  \n",
        "\n",
        "    @staticmethod\n",
        "    def add(a, b):\n",
        "        return a + b\n",
        "\n",
        "    @staticmethod\n",
        "    def multiply(a, b):\n",
        "        return a * b\n",
        "\n",
        "print(MathUtils.add(5, 3))\n",
        "print(MathUtils.multiply(4, 2))"
      ],
      "metadata": {
        "id": "maO-oktIkKND"
      }
    },
    {
      "cell_type": "markdown",
      "source": [
        "Q11 .What is method overloading in Python?\n",
        "Method overloading refers to the ability to define multiple methods within the same class that share the same name but differ in their parameters (number, type, or both).\n",
        "# Python's Approach to Method Overloading:\n",
        "Unlike some other object-oriented programming languages (e.g., Java or C++), Python does not support traditional method overloading where you define multiple functions with the same name but different argument lists. Due to Python's dynamic typing, the interpreter does not differentiate between methods based on parameter types at compile time. If you define multiple methods with the same name in a Python class, the last defined method will overwrite any previously defined methods with that same name.\n",
        "# Achieving Similar Functionality in Python:\n",
        "Despite not supporting direct method overloading, Python provides mechanisms to achieve similar flexibility and versatility.\n",
        "\n",
        "**Default Arguments:** Assigning default values to parameters allows a method to be called with a varying number of arguments.\n",
        "\n",
        "**class Calculator:**\n",
        "        \n",
        "        def add(self, a, b=0):\n",
        "            return a + b\n",
        "\n",
        "    calc = Calculator()\n",
        "    print(calc.add(5))    # Uses default b=0, prints 5\n",
        "    print(calc.add(5, 3)) # Uses provided b=3, prints 8\n",
        "\n",
        "\n",
        "*   **Conditional Logic:** Using if-elif-else statements within a single method allows for different behaviors based on the type or number of arguments received.*\n",
        "\n",
        "    **class Processor:**\n",
        "        def process(self, data):\n",
        "            if isinstance(data, int):\n",
        "                print(f\"Processing integer: {data}\")\n",
        "            elif isinstance(data, str):\n",
        "                print(f\"Processing string: {data}\")\n",
        "            else:\n",
        "                print(f\"Cannot process unknown type: {type(data)}\")\n",
        "\n",
        "    proc = Processor()\n",
        "\n",
        "    proc.process(10)\n",
        "\n",
        "    proc.process(\"hello\")\n",
        "    \n",
        "    proc.process([1, 2])"
      ],
      "metadata": {
        "id": "UAAHQseGqOlj"
      }
    },
    {
      "cell_type": "markdown",
      "source": [
        "Q12. What is method overriding in OOP?\n",
        "\n",
        "Method overriding occurs when a child class has a method with the same name, return type, and parameters as a method in the parent class, but with a different implementation\n",
        "\n",
        "**Key aspects of method overriding:**\n",
        "\n",
        "*  **Inheritance:**\n",
        "Method overriding relies on the concept of inheritance, where a subclass inherits properties and methods from its parent class.\n",
        "*  **Same signature:**\n",
        "The overriding method in the subclass must have the same name, return type, and parameter list (signature) as the method in the parent class.\n",
        "*  **Polymorphism:**\n",
        "Method overriding is a key mechanism for achieving runtime polymorphism (also known as dynamic polymorphism or late binding). This means that the specific method called is determined at runtime based on the object's type, rather than at compile time.\n",
        "*  **Customization:**\n",
        "Overriding allows subclasses to tailor the behavior of inherited methods to fit their specific needs, providing flexibility and specialization within the class hierarchy"
      ],
      "metadata": {
        "id": "LqGPUwZuqOiA"
      }
    },
    {
      "cell_type": "markdown",
      "source": [
        "Q13.  What is a property decorator in Python?\n",
        "\n",
        "A property decorator in Python, denoted by @property, is a built-in decorator that allows a method within a class to be accessed and managed as if it were an attribute. It provides a \"Pythonic\" way to implement getters, setters, and deleters for class attributes, encapsulating the logic associated with accessing, modifying, or deleting an attribute without directly exposing the underlying data\n",
        "\n",
        "**Key aspects of the @property decorator:**\n",
        "\n",
        "*  **Encapsulation:**\n",
        "It promotes encapsulation by allowing you to control how an attribute is accessed and modified. Instead of directly exposing an attribute, you can define methods (getter, setter, deleter) that handle the interactions.\n",
        "*  **Getter:**\n",
        "The @property decorator itself marks a method as the \"getter\" for a property. When you access the property, this method is automatically called.\n",
        "*  **Setter:**\n",
        "You can define a \"setter\" method for the property using @<property_name>.setter. This method is invoked when you assign a value to the property. It's often used for validation or transformation of the assigned value.\n",
        "*  **Deleter:**\n",
        "Similarly, a \"deleter\" method can be defined using @<property_name>.deleter. This method is called when you use the del keyword on the property.\n",
        "*  **Managed Attributes:**\n",
        "Properties are essentially \"managed attributes\" that allow you to add custom logic (e.g., validation, computation, side effects) to attribute access, assignment, and deletion.\n",
        "*  **Clean Syntax:**\n",
        "It provides a clean and readable syntax for managing attributes, avoiding the need for explicit get_attribute() and set_attribute() method calls."
      ],
      "metadata": {
        "id": "7d2NpUdPqOe3"
      }
    },
    {
      "cell_type": "markdown",
      "source": [
        "Q14.  Why is polymorphism important in OOP?\n",
        "Polymorphism is crucial in object-oriented programming (OOP) because it enables code flexibility, reusability, and maintainability by allowing objects of different types to be treated as objects of a common type\n",
        "\n",
        "**explanation:**\n",
        "1. **Code Reusability and Reduced Redundancy:**\n",
        "* Polymorphism allows you to write a single method that can be used with multiple object types, reducing the need to write separate methods for each type.\n",
        "*  For example, a \"draw\" method could be implemented differently for a circle, square, or triangle, but you can still call draw() on any of them through a generic shape interface.\n",
        "2. **Flexibility and Extensibility:**\n",
        "*  You can easily add new classes (like a new shape) without modifying existing code that uses the common interface, making your code more adaptable to changes.\n",
        "*  This means you can extend your program without breaking existing functionality.\n",
        "3. **Abstraction:**\n",
        "*  Polymorphism promotes abstraction by hiding the specific implementation details of each object behind a common interface.\n",
        "*  You can interact with objects based on what they can do (their methods) rather than how they do it.\n",
        "4. **Improved Code Organization:**\n",
        "*  By using polymorphism, you can organize your code around general behaviors and relationships between objects, making it easier to understand and maintain.\n",
        "*  Instead of having many conditional statements to handle different object types, you can rely on the polymorphism to handle the correct behavior.\n",
        "5. **Foundation of OOP:**\n",
        "* Languages that lack polymorphism are considered \"object-based\" rather than \"object-oriented.\"\n",
        "*  Polymorphism is a core principle that enables other OOP concepts like inheritance and interfaces to be fully utilized."
      ],
      "metadata": {
        "id": "-qcNpZSsqObf"
      }
    },
    {
      "cell_type": "markdown",
      "source": [
        "Q15.  What is an abstract class in Python\n",
        "\n",
        "An abstract class in Python is a class that cannot be instantiated directly and is designed to be subclassed. It serves as a blueprint or a common interface for other classes, enforcing a specific structure and ensuring that derived classes implement certain methods.\n",
        "\n",
        "**Key characteristics of abstract classes in Python:**\n",
        "\n",
        "*  **Cannot be instantiated:**\n",
        "You cannot create objects directly from an abstract class. Attempting to do so will result in a TypeError.\n",
        "*  **Contains abstract methods:**\n",
        "Abstract classes typically include one or more abstract methods. An abstract method is declared but does not have a concrete implementation within the abstract class itself.\n",
        "*  **Enforces implementation in subclasses:**\n",
        "Any concrete class that inherits from an abstract class must provide a concrete implementation for all of its abstract methods. If a subclass fails to implement an abstract method, it will also be considered an abstract class and cannot be instantiated.\n",
        "*  **Utilizes the abc module:**\n",
        "Python's abc (Abstract Base Classes) module provides the necessary tools for creating abstract classes. Specifically, the ABC class and the @abstractmethod decorator from this module are used."
      ],
      "metadata": {
        "id": "1AiPfqueqOXZ"
      }
    },
    {
      "cell_type": "markdown",
      "source": [
        "Q16.  What are the advantages of OOP?\n",
        "\n",
        "improved code organization through encapsulation, reusability via inheritance, flexibility with polymorphism, and simplification of complex systems through abstraction. These features contribute to modular, maintainable, and scalable software solutions.\n",
        "Advantages And Disadvantages Of OOPs Explained With Example ...\n",
        "\n",
        "  **Here's a more detailed look at the benefits:**\n",
        "*  **Modularity:**\n",
        "OOP allows for the breakdown of complex problems into smaller, manageable objects, each with its own data and methods. This modularity makes it easier to understand, develop, and maintain code, as changes in one object are less likely to affect others.\n",
        "*  **Reusability:**\n",
        "Inheritance allows objects to inherit properties and methods from other objects, reducing the need to write the same code multiple times. This promotes code reuse and speeds up development.\n",
        "*  **Flexibility:**\n",
        "Polymorphism enables objects to take on different forms or behaviors depending on the context. This flexibility allows for more adaptable and extensible code.\n",
        "*  **Abstraction:**\n",
        "OOP allows for hiding complex implementation details and exposing only the necessary information to the user. This simplifies the use of objects and makes the code easier to understand and maintain.\n",
        "*  **Real-world Modeling:**\n",
        "OOP allows developers to model real-world objects and their interactions more naturally, leading to better problem understanding and more intuitive solutions.\n",
        "*  **Easier Debugging:**\n",
        "Because of its modularity, OOP makes it easier to isolate and fix errors, as changes are less likely to have widespread effects.\n",
        "*  **Improved Security:**\n",
        "OOP provides better control over data access through encapsulation and access modifiers (like private, protected, public), enhancing security and preventing unauthorized access.\n",
        "*  **Scalability:**\n",
        "OOP allows for easier scaling of applications by adding new functionalities and objects without major disruptions to existing code.\n",
        "*  **Better Code Organization:**\n",
        "OOP promotes a more structured and organized approach to coding, making it easier to navigate and understand complex projects.\n",
        "*  **Reduced Development Costs:**\n",
        "By promoting code reuse and simplifying maintenance, OOP can lead to reduced development time and cost"
      ],
      "metadata": {
        "id": "Ff90CvEhqOOg"
      }
    },
    {
      "cell_type": "markdown",
      "source": [
        "Q 17.  What is the difference between a class variable and an instance variable?\n",
        "The primary distinction between a class variable and an instance variable lies in their scope, storage, and how they are accessed and modified.\n",
        "# Class Variable:\n",
        "* **Scope:**\n",
        "A class variable belongs to the class itself, not to any specific instance of the class. It is shared among all instances of that class.\n",
        "* **Storage:**\n",
        "There is only one copy of a class variable, regardless of how many instances of the class are created. This single copy resides in the class's memory space.\n",
        "* **Access/Modification:**\n",
        "Class variables can be accessed using either the class name or an instance of the class. Changes made to a class variable through any instance or the class itself will be reflected in all other instances.\n",
        "* **Use Cases:**\n",
        "Ideal for storing data that is common to all objects of a class, such as constants, counters for the number of instances created, or shared configuration settings.\n",
        "# Instance Variable:\n",
        "*  **Scope:**\n",
        "An instance variable belongs to a specific instance (object) of a class. Each instance has its own unique copy of the instance variables.\n",
        "*  **Storage:**\n",
        "Each time a new instance of the class is created, a new set of instance variables is created and stored in the memory space allocated for that specific object.\n",
        "* **Access/Modification:**\n",
        "Instance variables can only be accessed and modified through a specific instance of the class. Changes made to an instance variable of one object will not affect the instance variables of other objects.\n",
        "*  **Use Cases:**\n",
        "Suitable for storing data that is unique to each individual object, representing the state or characteristics of that particular instance (e.g., name, age, specific attributes of an object)"
      ],
      "metadata": {
        "id": "DgeeaSmpqOJv"
      }
    },
    {
      "cell_type": "markdown",
      "source": [
        "Q18. What is multiple inheritance in Python?\n",
        "\n",
        "Multiple inheritance in Python is a feature of object-oriented programming that allows a class to inherit attributes and methods from more than one parent (or base) class.\n",
        "\n",
        "**Key aspects of multiple inheritance in Python:**\n",
        "\n",
        "*  **Syntax:** A class inherits from multiple parents by listing them within the parentheses during class definition, separated by commas.\n",
        "\n",
        "*  **Method Resolution Order (MRO):**\n",
        "When a method is called on an instance of a class with multiple inheritance, Python needs a way to determine which parent's method to execute if multiple parents define a method with the same name. This order is determined by the Method Resolution Order (MRO), which Python calculates using the C3 linearization algorithm. You can inspect the MRO of a class using the mro() method or the __mro__ attribute.\n",
        "*  **Combining Functionality:**\n",
        "Multiple inheritance is useful when a class logically represents a combination of different types of entities and needs to exhibit behaviors from each of them. For example, a HybridCar could inherit from both ElectricVehicle and GasolineVehicle.\n",
        "*  **Potential Complexity:**\n",
        "While powerful, multiple inheritance can introduce complexity, especially regarding the MRO and potential ambiguity if parent classes have similarly named methods or attributes. Careful design and understanding of the MRO are crucial when employing it."
      ],
      "metadata": {
        "id": "LHfg_QZOqOEK"
      }
    },
    {
      "cell_type": "markdown",
      "source": [
        "Q19. Explain the purpose of ‘’______str__’ and ‘______repr__’ ‘ methods in Python?\n",
        "\n",
        "In Python, ______str__ and ______repr__ are special methods (also known as \"dunder methods\") used to define how an object is represented as a string. They serve different purposes and are intended for different audiences.\n",
        "______str__ (for \"string\"): This method returns a \"user-friendly\" or \"readable\" string representation of an object. Its primary purpose is to provide a human-readable output, suitable for display to end-users, logging, or printing. When you use print() or str() on an object, Python typically calls its __str__ method.\n",
        "\n",
        "    class Book:\n",
        "\n",
        "        def __init__(self, title, author):\n",
        "            self.title = title\n",
        "            self.author = author\n",
        "\n",
        "        def __str__(self):\n",
        "            return f\"{self.title} by {self.author}\"\n",
        "\n",
        "    book = Book(\"The Great Gatsby\", \"F. Scott Fitzgerald\")\n",
        "    print(book) # Output: The Great Gatsby by F. Scott Fitzgeral\n",
        "\n",
        "  __repr__ (for \"representation\"): This method returns an \"unambiguous\" or \"developer-friendly\" string representation of an object. Its purpose is to provide a detailed and often reconstructible representation, primarily for debugging and development. The output of __repr__ should ideally be a valid Python expression that could recreate the object. When you use repr() or inspect an object in an interactive interpreter (without explicitly calling print()), Python calls its __repr__ method. If __str__ is not defined for a class, __repr__ will be used as a fallback for print() and str().  \n",
        "\n",
        "\n",
        "      class Book:\n",
        "        def __init__(self, title, author):\n",
        "            self.title = title\n",
        "            self.author = author\n",
        "\n",
        "        def __repr__(self):\n",
        "            return f\"Book(title='{self.title}', author='{self.author}')\"\n",
        "\n",
        "    book = Book(\"1984\", \"George Orwell\")\n",
        "    print(repr(book)) # Output: Book(title='1984', author='George Orwell')"
      ],
      "metadata": {
        "id": "6pCv_bWgqZB_"
      }
    },
    {
      "cell_type": "markdown",
      "source": [
        " Q20. What is the significance of the ‘super()’ function in Python?\n",
        "\n",
        " The super() function in Python holds significant importance in the context of object-oriented programming, particularly concerning inheritance. Its primary significance lies in providing a mechanism to access methods and attributes of a parent or superclass from a child or subclass.\n",
        "**Here's a breakdown of its key significance:**\n",
        "\n",
        "*  **Accessing Parent Class Functionality:**\n",
        "super() allows a subclass to call methods defined in its parent class, including the __init__ constructor, without explicitly naming the parent class. This is crucial for initializing inherited attributes and reusing parent class logic.\n",
        "*  **Facilitating Code Reusability and Maintainability:**\n",
        "By using super(), a child class can leverage the functionality of its parent class, reducing code duplication and making the code easier to maintain. If the parent class name changes, the super() call remains valid, promoting flexibility.\n",
        "*  **Handling Method Resolution Order (MRO) in Multiple Inheritance:**\n",
        "In scenarios involving multiple inheritance, super() plays a vital role in correctly navigating the Method Resolution Order (MRO). It ensures that methods are called in the proper sequence according to the MRO, preventing unexpected behavior and ensuring all necessary parent class methods are invoked.\n",
        "*  **Promoting Forward Compatibility:**\n",
        "super() helps in creating more robust and forward-compatible code. If the inheritance hierarchy changes or new classes are inserted between a parent and child, super() automatically adapts to call the correct next method in the MRO, minimizing the need for code modifications."
      ],
      "metadata": {
        "id": "C6HuFjD3qY9p"
      }
    },
    {
      "cell_type": "markdown",
      "source": [
        "Q21. What is the significance of the ______del__ method in Python?\n",
        "\n",
        "The ______del__ method in Python, also known as the destructor, is a special method that is automatically called when an object is about to be destroyed, typically during garbage collection. Its significance lies in providing a mechanism to perform cleanup actions or release resources held by an object before its memory is reclaimed.\n",
        "\n",
        "\n",
        "**Resource Management:**\n",
        "\n",
        "The primary purpose of ______del__ is to release external resources that an object might be holding. This includes:\n",
        "*  Closing file handles or network connections.\n",
        "*  Releasing database connections.\n",
        "*  Deallocating memory managed by external libraries (e.g., C extensions).\n",
        "*  Cleaning up temporary files or directories.\n",
        "\n",
        "**Cleanup Operations:**\n",
        "It allows for any necessary cleanup operations associated with the object's lifecycle that are not automatically handled by Python's garbage collector.\n",
        "\n",
        "**Last Resort for Cleanup:**\n",
        "While explicit resource management (e.g., using with statements for context managers) is generally preferred and more reliable, ______del__ can serve as a last-resort mechanism to attempt cleanup if explicit methods were not used or if the object's lifetime is complex.\n",
        "\n",
        "**Important Considerations:**\n",
        "*  **Uncertainty of Execution:**\n",
        "The ______del__ method is not guaranteed to be called in all circumstances. Python's garbage collector determines when an object is no longer referenced and can be collected, and this timing is not always predictable.\n",
        "*  **Avoid Complex Logic:**\n",
        "Due to the uncertainty of execution and potential for issues (like circular references), it is generally advised to keep the ______del__ method simple and focused on essential resource release, avoiding complex logic or operations that might fail or cause side effects.\n",
        "*  **Context Managers (with statement):**\n",
        "For managing resources that need to be explicitly opened and closed (like files or network connections), using context managers with the with statement is the recommended and more robust approach as it guarantees resource release even if errors occur"
      ],
      "metadata": {
        "id": "g4AuOY7iqY5b"
      }
    },
    {
      "cell_type": "markdown",
      "source": [
        " Q22. What is the difference between @staticmethod and @classmethod in Python?\n",
        "\n",
        " The primary difference between @staticmethod and @classmethod in Python lies in their access to the class and instance context:\n",
        "\n",
        "**@staticmethod:**\n",
        "*  **No implicit arguments:**\n",
        "A static method does not receive any implicit first argument like self (for instance methods) or cls (for class methods).\n",
        "*  **No access to class or instance state:**\n",
        "It cannot access or modify class-level attributes or instance-specific data. It behaves like a regular function defined within the class's namespace.\n",
        "*  **Use case:**\n",
        "Ideal for utility functions that are logically related to the class but do not require any information about the class's state or its instances.\n",
        "\n",
        "**@classmethod:**\n",
        "*  **Implicit cls argument:**\n",
        "A class method receives the class itself as its first argument, conventionally named cls.\n",
        "*  **Access to class state:**\n",
        "It can access and modify class-level attributes and call other class methods.\n",
        "No access to instance state:\n",
        "It cannot directly access or modify instance-specific data unless an instance is explicitly passed to it.\n",
        "*  **Use case:**\n",
        "Commonly used for factory methods (creating instances of the class with different initializations), alternative constructors, or operations that need to interact with class-level attributes\n",
        "\n",
        "@staticmethod:\n",
        "For functions that belong to the class conceptually but are independent of any instance or class state.\n",
        "\n",
        "@classmethod:\n",
        "For methods that need to interact with the class itself (e.g., class variables, alternative constructors)."
      ],
      "metadata": {
        "id": "SeFy_yzQqY1R"
      }
    },
    {
      "cell_type": "markdown",
      "source": [
        "Q23. How does polymorphism work in Python with inheritance?\n",
        "\n",
        "**Inheritance:**\n",
        "A child (or derived) class inherits methods and attributes from its parent (or base) class. This establishes a \"is-a\" relationship, where the child class is a more specific type of the parent class.\n",
        "\n",
        "**Method Overriding:**\n",
        "The core of polymorphism with inheritance lies in the ability of a child class to redefine a method that it inherited from its parent class. This redefinition uses the exact same method name and signature (parameters) as the parent's method.\n",
        "\n",
        "**Dynamic Binding (Late Binding):**\n",
        "When you call a method on an object, Python determines which specific implementation of that method to execute at runtime, based on the actual type of the object, not just the type of the variable holding the object. If the object is an instance of a child class that has overridden a method, the child class's version of the method will be called. If the child class has not overridden the method, the parent class's version will be called.  \n",
        "\n",
        "    class Animal:\n",
        "    def speak(self):\n",
        "        print(\"Animal makes a sound\")\n",
        "\n",
        "    class Dog(Animal):\n",
        "    def speak(self):  # Overriding the speak method\n",
        "        print(\"Woof!\")\n",
        "\n",
        "    class Cat(Animal):\n",
        "    def speak(self):  # Overriding the speak method\n",
        "        print(\"Meow!\")\n",
        "\n",
        "    # Demonstrate polymorphism\n",
        "\n",
        "    animals = [Dog(), Cat(), Animal()]\n",
        "    for animal in animals:\n",
        "    animal.speak()\n",
        "\n",
        "**Explanation:**\n",
        "\n",
        "In this example, Dog and Cat inherit from Animal. Both Dog and Cat override the speak() method. When the speak() method is called within the loop, the appropriate version (Dog's, Cat's, or Animal's) is invoked based on the specific object's type at that moment. This demonstrates how a single method call (animal.speak()) can exhibit different behaviors depending on the object it's called on, showcasing polymorphism."
      ],
      "metadata": {
        "id": "yQAc0hKTqYwp"
      }
    },
    {
      "cell_type": "markdown",
      "source": [
        "Q24.  What is method chaining in Python OOP?\n",
        "\n",
        "Method chaining in Python Object-Oriented Programming (OOP) is a technique that allows for the sequential invocation of multiple methods on the same object within a single line of code\n",
        "\n",
        "**Key principles and benefits:**\n",
        "\n",
        "*  **Returning self:**\n",
        "The fundamental requirement for method chaining is that each method intended to be part of a chain must return the instance of the object (self) on which it was called. This allows the next method in the chain to be invoked directly on the returned object.\n",
        "*  **Conciseness and Readability:**\n",
        "Method chaining can make code more concise and readable by eliminating the need for intermediate variables to store the result of each method call. It creates a fluent, pipeline-like syntax that clearly shows a sequence of operations on a single object.\n",
        "*  **Reduced Variable Clutter:**\n",
        "By avoiding intermediate variables, method chaining reduces the overall number of variables in a program, potentially simplifying the code and reducing memory usage in some cases.\n",
        "*  **Enhanced Expressiveness:**\n",
        "This pattern is particularly useful in scenarios where an object undergoes a series of transformations or configurations, such as data processing pipelines (e.g., in Pandas) or object initialization.\n",
        "\n",
        "       class Car\n",
        "       def __init__(self, make, model):\n",
        "        \n",
        "        self.make = make\n",
        "        self.model = model\n",
        "        self.color = None\n",
        "        self.speed = 0\n",
        "\n",
        "       def set_color(self, color):\n",
        "        self.color = color\n",
        "        return self  # Return self to enable chaining\n",
        "\n",
        "       def accelerate(self, amount):\n",
        "        self.speed += amount\n",
        "        return self\n",
        "\n",
        "       def brake(self, amount):\n",
        "        self.speed -= amount\n",
        "        if self.speed < 0:\n",
        "            self.speed = 0\n",
        "        return self\n",
        "    \n",
        "       my_car = Car(\"Toyota\", \"Camry\").set_color(\"blue\").accelerate(50).brake(10)\n",
        "       print(f\"My car is a {my_car.color} {my_car.make} {my_car.model} and its speed\n",
        "       is {my_car.speed} mph.\")"
      ],
      "metadata": {
        "id": "0POZGj_bqYr7"
      }
    },
    {
      "cell_type": "markdown",
      "source": [
        "Q25. What is the purpose of the ______call__ method in Python?\n",
        "\n",
        " The ______call__ method in Python allows instances of a class to be invoked or called as if they were regular functions. When this method is defined within a class, calling an object of that class (e.g., my_object()) automatically triggers the execution of the ______call__ method.  \n",
        "\n",
        "**Creating Callable Objects:**\n",
        "It enables objects to behave like functions, allowing for more flexible and reusable code. This is particularly useful when an object needs to encapsulate both data and a specific operation that can be directly invoked.\n",
        "\n",
        "**Implementing Decorators:**\n",
        "__call__ is frequently used in implementing class-based decorators, where the decorator itself is an instance of a class that modifies the behavior of a function or method.\n",
        "\n",
        "**Function Factories:**\n",
        "It can be used to create \"function factories,\" where an object generates and returns functions with specific behaviors based on internal state or parameters passed during the object's creation.\n",
        "\n",
        "**Maintaining State in Callable Objects:**\n",
        "Unlike simple functions, callable objects can maintain state between calls, which can be advantageous in scenarios requiring persistent data or complex internal logic.\n",
        "\n",
        "**Encapsulating Functionality:**\n",
        "It allows for the encapsulation of functionality within an object, promoting organized and maintainable code by combining data and the operations that act upon it."
      ],
      "metadata": {
        "id": "4gEIIbIIoM6l"
      }
    },
    {
      "cell_type": "markdown",
      "source": [
        "# PEACTICAL  QUESTIONS"
      ],
      "metadata": {
        "id": "jmbd7LZ_pYh0"
      }
    },
    {
      "cell_type": "code",
      "source": [
        "class Animal:\n",
        "    def speak(self):\n",
        "        print(\"This animal makes a sound.\")\n",
        "\n",
        "# Child class\n",
        "class Dog(Animal):\n",
        "    def speak(self):\n",
        "        print(\"Bark!\")\n",
        "\n",
        "\n"
      ],
      "metadata": {
        "id": "VAfkkqQMqCIN"
      },
      "execution_count": null,
      "outputs": []
    },
    {
      "cell_type": "code",
      "source": [
        "a = Animal()\n",
        "a.speak()\n",
        "\n",
        "d = Dog()\n",
        "d.speak()"
      ],
      "metadata": {
        "colab": {
          "base_uri": "https://localhost:8080/"
        },
        "id": "uz8vzVvvtBtM",
        "outputId": "62cfceb4-853e-416f-800b-39750feca5e5"
      },
      "execution_count": null,
      "outputs": [
        {
          "output_type": "stream",
          "name": "stdout",
          "text": [
            "This animal makes a sound.\n",
            "Bark!\n"
          ]
        }
      ]
    },
    {
      "cell_type": "code",
      "source": [
        "from abc import ABC, abstractmethod\n",
        "import math\n",
        "\n",
        "# Abstract base class\n",
        "class Shape(ABC):\n",
        "\n",
        "    @abstractmethod\n",
        "    def area(self):\n",
        "        pass\n",
        "\n",
        "# Circle class derived from Shape\n",
        "class Circle(Shape):\n",
        "\n",
        "    def __init__(self, radius):\n",
        "        self.radius = radius\n",
        "\n",
        "    def area(self):\n",
        "        return math.pi * self.radius * self.radius\n",
        "\n",
        "# Rectangle class derived from Shape\n",
        "class Rectangle(Shape):\n",
        "\n",
        "    def __init__(self, length, width):\n",
        "        self.length = length\n",
        "        self.width = width\n",
        "\n",
        "    def area(self):\n",
        "        return self.length * self.width\n",
        "\n",
        "# Test the classes\n",
        "circle = Circle(5)\n",
        "rectangle = Rectangle(4, 6)\n",
        "\n",
        "print(f\"Area of Circle: {circle.area():.2f}\")\n",
        "print(f\"Area of Rectangle: {rectangle.area():.2f}\")"
      ],
      "metadata": {
        "id": "dKU86ZLStsMs",
        "colab": {
          "base_uri": "https://localhost:8080/"
        },
        "outputId": "c585106c-6072-4d95-b235-1e4640a8406c"
      },
      "execution_count": null,
      "outputs": [
        {
          "output_type": "stream",
          "name": "stdout",
          "text": [
            "Area of Circle: 78.54\n",
            "Area of Rectangle: 24.00\n"
          ]
        }
      ]
    },
    {
      "cell_type": "code",
      "source": [
        "class Vehicle:\n",
        "    def __init__(self, vehicle_type):\n",
        "        self.type = vehicle_type\n",
        "\n",
        "# Derived class from Vehicle\n",
        "class Car(Vehicle):\n",
        "    def __init__(self, vehicle_type, brand):\n",
        "        super().__init__(vehicle_type)\n",
        "        self.brand = brand\n",
        "\n",
        "# Further derived class from Car\n",
        "class ElectricCar(Car):\n",
        "    def __init__(self, vehicle_type, brand, battery):\n",
        "        super().__init__(vehicle_type, brand)\n",
        "        self.battery = battery\n",
        "\n",
        "    def display_info(self):\n",
        "        print(f\"Type: {self.type}\")\n",
        "        print(f\"Brand: {self.brand}\")\n",
        "        print(f\"Battery: {self.battery} kWh\")\n",
        "        # Create an object of ElectricCar\n",
        "tesla = ElectricCar(\"Electric Vehicle\", \"Tesla\", 75)\n",
        "tesla.display_info()"
      ],
      "metadata": {
        "id": "JpwjuAvitsHt",
        "colab": {
          "base_uri": "https://localhost:8080/"
        },
        "outputId": "94dab5b1-04b9-47ce-f7f4-05e102cda387"
      },
      "execution_count": null,
      "outputs": [
        {
          "output_type": "stream",
          "name": "stdout",
          "text": [
            "Type: Electric Vehicle\n",
            "Brand: Tesla\n",
            "Battery: 75 kWh\n"
          ]
        }
      ]
    },
    {
      "cell_type": "code",
      "source": [
        "# Base class\n",
        "class Bird:\n",
        "    def fly(self):\n",
        "        print(\"Bird is flying...\")\n",
        "\n",
        "# Derived class\n",
        "class Sparrow(Bird):\n",
        "    def fly(self):\n",
        "        print(\"Sparrow can fly high in the sky.\")\n",
        "\n",
        "# Derived class\n",
        "class Penguin(Bird):\n",
        "    def fly(self):\n",
        "        print(\"Penguins cannot fly, they swim instead.\")\n",
        "\n",
        "# Function to demonstrate polymorphism\n",
        "def bird_flight(bird):\n",
        "    bird.fly()\n",
        "\n",
        "# Create objects\n",
        "sparrow = Sparrow()\n",
        "penguin = Penguin()\n",
        "\n",
        "# Polymorphic behavior\n",
        "bird_flight(sparrow)\n",
        "bird_flight(penguin)"
      ],
      "metadata": {
        "colab": {
          "base_uri": "https://localhost:8080/"
        },
        "id": "qXqP2CP3asFo",
        "outputId": "48a9de7d-4824-4c78-d9d7-5cf5287719f5"
      },
      "execution_count": null,
      "outputs": [
        {
          "output_type": "stream",
          "name": "stdout",
          "text": [
            "Sparrow can fly high in the sky.\n",
            "Penguins cannot fly, they swim instead.\n"
          ]
        }
      ]
    },
    {
      "cell_type": "code",
      "source": [
        "class BankAccount:\n",
        "    def __init__(self, initial_balance=0):\n",
        "        self.__balance = initial_balance  # Private attribute\n",
        "\n",
        "    def deposit(self, amount):\n",
        "        if amount > 0:\n",
        "            self.__balance += amount\n",
        "            print(f\"Deposited: ₹{amount}\")\n",
        "        else:\n",
        "            print(\"Deposit amount must be positive.\")\n",
        "\n",
        "    def withdraw(self, amount):\n",
        "        if 0 < amount <= self.__balance:\n",
        "            self.__balance -= amount\n",
        "            print(f\"Withdrawn: ₹{amount}\")\n",
        "        else:\n",
        "            print(\"Invalid withdrawal amount or insufficient balance.\")\n",
        "\n",
        "    def get_balance(self):\n",
        "        return self.__balance\n",
        "\n",
        "# Create a bank account object\n",
        "account = BankAccount(1000)\n",
        "\n",
        "# Demonstrate encapsulation\n",
        "account.deposit(500)\n",
        "account.withdraw(300)\n",
        "print(\"Current Balance: ₹\", account.get_balance())"
      ],
      "metadata": {
        "colab": {
          "base_uri": "https://localhost:8080/"
        },
        "id": "_zXF4oFnasBj",
        "outputId": "0d398c9c-1d56-4b2d-e7e2-3704f18df09a"
      },
      "execution_count": null,
      "outputs": [
        {
          "output_type": "stream",
          "name": "stdout",
          "text": [
            "Deposited: ₹500\n",
            "Withdrawn: ₹300\n",
            "Current Balance: ₹ 1200\n"
          ]
        }
      ]
    },
    {
      "cell_type": "code",
      "source": [
        "class Instrument:\n",
        "    def play(self):\n",
        "        print(\"Instrument is playing...\")\n",
        "\n",
        "# Derived class\n",
        "class Guitar(Instrument):\n",
        "    def play(self):\n",
        "        print(\"Guitar is strumming chords.\")\n",
        "\n",
        "# Derived class\n",
        "class Piano(Instrument):\n",
        "    def play(self):\n",
        "        print(\"Piano is playing melodies.\")\n",
        "\n",
        "# Function that accepts any instrument and calls its play method\n",
        "def perform(instrument):\n",
        "    instrument.play()\n",
        "\n",
        "# Create objects\n",
        "guitar = Guitar()\n",
        "piano = Piano()\n",
        "\n",
        "# Runtime polymorphism in action\n",
        "perform(guitar)\n",
        "perform(piano)\n"
      ],
      "metadata": {
        "colab": {
          "base_uri": "https://localhost:8080/"
        },
        "id": "-bAmWnbkar9l",
        "outputId": "27c24266-6c1c-4ff6-fbbe-daba4e877aad"
      },
      "execution_count": null,
      "outputs": [
        {
          "output_type": "stream",
          "name": "stdout",
          "text": [
            "Guitar is strumming chords.\n",
            "Piano is playing melodies.\n"
          ]
        }
      ]
    },
    {
      "cell_type": "code",
      "source": [
        "class MathOperations:\n",
        "\n",
        "    @classmethod\n",
        "    def add_numbers(cls, a, b):\n",
        "        return a + b\n",
        "\n",
        "    @staticmethod\n",
        "    def subtract_numbers(a, b):\n",
        "        return a - b\n",
        "\n",
        "# Using the class method\n",
        "sum_result = MathOperations.add_numbers(10, 5)\n",
        "print(\"Sum:\", sum_result)\n",
        "\n",
        "# Using the static method\n",
        "difference_result = MathOperations.subtract_numbers(10, 5)\n",
        "print(\"Difference:\", difference_result)"
      ],
      "metadata": {
        "colab": {
          "base_uri": "https://localhost:8080/"
        },
        "id": "ch6aeRpVar55",
        "outputId": "62a89e84-bba7-449c-922f-6741e3830fc4"
      },
      "execution_count": null,
      "outputs": [
        {
          "output_type": "stream",
          "name": "stdout",
          "text": [
            "Sum: 15\n",
            "Difference: 5\n"
          ]
        }
      ]
    },
    {
      "cell_type": "code",
      "source": [
        "class Person:\n",
        "    count = 0  # Class variable\n",
        "\n",
        "    def __init__(self, name):\n",
        "        self.name = name\n",
        "        Person.count += 1  # Increment count when a new object is created\n",
        "\n",
        "    @classmethod\n",
        "    def get_person_count(cls):\n",
        "        return cls.count\n",
        "\n",
        "# Creating person objects\n",
        "p1 = Person(\"Alice\")\n",
        "p2 = Person(\"Bob\")\n",
        "p3 = Person(\"Charlie\")\n",
        "\n",
        "# Getting total count of persons\n",
        "print(\"Total persons created:\", Person.get_person_count())"
      ],
      "metadata": {
        "colab": {
          "base_uri": "https://localhost:8080/"
        },
        "id": "ElBxlLIoar2S",
        "outputId": "849b35b1-0dc4-4ba3-e8d9-c0c114ea8159"
      },
      "execution_count": null,
      "outputs": [
        {
          "output_type": "stream",
          "name": "stdout",
          "text": [
            "Total persons created: 3\n"
          ]
        }
      ]
    },
    {
      "cell_type": "code",
      "source": [
        "class Fraction:\n",
        "    def __init__(self, numerator, denominator):\n",
        "        self.numerator = numerator\n",
        "        self.denominator = denominator\n",
        "\n",
        "    def __str__(self):\n",
        "        return f\"{self.numerator}/{self.denominator}\"\n",
        "\n",
        "# Create fraction objects\n",
        "f1 = Fraction(1, 2)\n",
        "f2 = Fraction(3, 4)\n",
        "\n",
        "# Print fractions using overridden __str__\n",
        "print(f1)\n",
        "print(f2)"
      ],
      "metadata": {
        "colab": {
          "base_uri": "https://localhost:8080/"
        },
        "id": "rt2o9fPRaryI",
        "outputId": "cc80219e-498b-4ca1-b8f2-9215b9456450"
      },
      "execution_count": null,
      "outputs": [
        {
          "output_type": "stream",
          "name": "stdout",
          "text": [
            "1/2\n",
            "3/4\n"
          ]
        }
      ]
    },
    {
      "cell_type": "code",
      "source": [
        "class Vector:\n",
        "    def __init__(self, x, y):\n",
        "        self.x = x\n",
        "        self.y = y\n",
        "\n",
        "    def __add__(self, other):\n",
        "        # Overload + operator to add two vectors\n",
        "        return Vector(self.x + other.x, self.y + other.y)\n",
        "\n",
        "    def __str__(self):\n",
        "        # To print vector nicely\n",
        "        return f\"({self.x}, {self.y})\"\n",
        "\n",
        "# Create two vector objects\n",
        "v1 = Vector(2, 3)\n",
        "v2 = Vector(4, 5)\n",
        "\n",
        "# Add vectors using + operator (calls __add__)\n",
        "v3 = v1 + v2\n",
        "\n",
        "# Print the result\n",
        "print(\"Vector 1:\", v1)\n",
        "print(\"Vector 2:\", v2)\n",
        "print(\"Sum of vectors:\", v3)"
      ],
      "metadata": {
        "colab": {
          "base_uri": "https://localhost:8080/"
        },
        "id": "RjvIfXzfartt",
        "outputId": "0d0c0f8c-7da6-4262-ee68-9c3a46ac18e9"
      },
      "execution_count": null,
      "outputs": [
        {
          "output_type": "stream",
          "name": "stdout",
          "text": [
            "Vector 1: (2, 3)\n",
            "Vector 2: (4, 5)\n",
            "Sum of vectors: (6, 8)\n"
          ]
        }
      ]
    },
    {
      "cell_type": "code",
      "source": [
        "class Person:\n",
        "    def __init__(self, name, age):\n",
        "        self.name = name\n",
        "        self.age = age\n",
        "\n",
        "    def greet(self):\n",
        "        print(f\"Hello, my name is {self.name} and I am {self.age} years old.\")\n",
        "\n",
        "# Create a Person object\n",
        "person1 = Person(\"Khushbu\", 20)\n",
        "\n",
        "# Call the greet method\n",
        "person1.greet()"
      ],
      "metadata": {
        "colab": {
          "base_uri": "https://localhost:8080/"
        },
        "id": "NKjzb3gFarqW",
        "outputId": "4578f05a-dda4-4fbc-80fc-4bb9ba0aebbd"
      },
      "execution_count": null,
      "outputs": [
        {
          "output_type": "stream",
          "name": "stdout",
          "text": [
            "Hello, my name is Khushbu and I am 20 years old.\n"
          ]
        }
      ]
    },
    {
      "cell_type": "code",
      "source": [
        "class Student:\n",
        "    def __init__(self, name, grades):\n",
        "        self.name = name\n",
        "        self.grades = grades  # Expecting a list of grades\n",
        "\n",
        "    def average_grade(self):\n",
        "        if len(self.grades) == 0:\n",
        "            return 0\n",
        "        return sum(self.grades) / len(self.grades)\n",
        "\n",
        "# Create a Student object\n",
        "student1 = Student(\"Khushbu\", [85, 90, 78, 92, 88])\n",
        "\n",
        "# Call the method to compute average grade\n",
        "average = student1.average_grade()\n",
        "\n",
        "# Print result\n",
        "print(f\"{student1.name}'s average grade is: {average:.2f}\")\n"
      ],
      "metadata": {
        "colab": {
          "base_uri": "https://localhost:8080/"
        },
        "id": "pQMBvzOParmm",
        "outputId": "da6a65d3-2ca5-467d-a27e-2f23e95a8a1f"
      },
      "execution_count": null,
      "outputs": [
        {
          "output_type": "stream",
          "name": "stdout",
          "text": [
            "Khushbu's average grade is: 86.60\n"
          ]
        }
      ]
    },
    {
      "cell_type": "code",
      "source": [
        "class Rectangle:\n",
        "    def __init__(self):\n",
        "        self.length = 0\n",
        "        self.width = 0\n",
        "\n",
        "    def set_dimensions(self, length, width):\n",
        "        self.length = length\n",
        "        self.width = width\n",
        "\n",
        "    def area(self):\n",
        "        return self.length * self.width\n",
        "\n",
        "# Create a Rectangle object\n",
        "rect = Rectangle()\n",
        "\n",
        "# Set dimensions\n",
        "rect.set_dimensions(5, 4)\n",
        "\n",
        "# Calculate and print area\n",
        "print(\"Area of the rectangle:\", rect.area())\n"
      ],
      "metadata": {
        "colab": {
          "base_uri": "https://localhost:8080/"
        },
        "id": "TpKWBpzdariY",
        "outputId": "c9a21830-d724-4177-ec92-dc6a168b96b4"
      },
      "execution_count": null,
      "outputs": [
        {
          "output_type": "stream",
          "name": "stdout",
          "text": [
            "Area of the rectangle: 20\n"
          ]
        }
      ]
    },
    {
      "cell_type": "code",
      "source": [
        "# Base class\n",
        "class Employee:\n",
        "    def __init__(self, hours_worked, hourly_rate):\n",
        "        self.hours_worked = hours_worked\n",
        "        self.hourly_rate = hourly_rate\n",
        "\n",
        "    def calculate_salary(self):\n",
        "        return self.hours_worked * self.hourly_rate\n",
        "\n",
        "# Derived class\n",
        "class Manager(Employee):\n",
        "    def __init__(self, hours_worked, hourly_rate, bonus):\n",
        "        super().__init__(hours_worked, hourly_rate)\n",
        "        self.bonus = bonus\n",
        "\n",
        "    def calculate_salary(self):\n",
        "        base_salary = super().calculate_salary()\n",
        "        return base_salary + self.bonus\n",
        "\n",
        "# Example usage\n",
        "emp = Employee(40, 200)\n",
        "print(\"Employee Salary:\", emp.calculate_salary())\n",
        "\n",
        "mgr = Manager(40, 200, 5000)\n",
        "print(\"Manager Salary:\", mgr.calculate_salary())"
      ],
      "metadata": {
        "id": "Sfq_LG67ardv",
        "colab": {
          "base_uri": "https://localhost:8080/"
        },
        "outputId": "556bb1b9-d433-4e84-9079-e4e11d7cc4db"
      },
      "execution_count": null,
      "outputs": [
        {
          "output_type": "stream",
          "name": "stdout",
          "text": [
            "Employee Salary: 8000\n",
            "Manager Salary: 13000\n"
          ]
        }
      ]
    },
    {
      "cell_type": "code",
      "source": [
        "class Product:\n",
        "    def __init__(self, name, price, quantity):\n",
        "        self.name = name\n",
        "        self.price = price\n",
        "        self.quantity = quantity\n",
        "\n",
        "    def total_price(self):\n",
        "        return self.price * self.quantity\n",
        "\n",
        "# Example usage:\n",
        "product1 = Product(\"Notebook\", 50, 3)\n",
        "print(\"Product:\", product1.name)\n",
        "print(\"Total Price:\", product1.total_price())"
      ],
      "metadata": {
        "colab": {
          "base_uri": "https://localhost:8080/"
        },
        "id": "XsVq5qn2my1Q",
        "outputId": "d755f9fc-89ba-417f-cff1-c2a6022b54b2"
      },
      "execution_count": null,
      "outputs": [
        {
          "output_type": "stream",
          "name": "stdout",
          "text": [
            "Product: Notebook\n",
            "Total Price: 150\n"
          ]
        }
      ]
    },
    {
      "cell_type": "code",
      "source": [
        "from abc import ABC, abstractmethod\n",
        "\n",
        "# Abstract base class\n",
        "class Animal(ABC):\n",
        "    @abstractmethod\n",
        "    def sound(self):\n",
        "        pass\n",
        "\n",
        "# Derived class Cow\n",
        "class Cow(Animal):\n",
        "    def sound(self):\n",
        "        return \"Moo\"\n",
        "\n",
        "# Derived class Sheep\n",
        "class Sheep(Animal):\n",
        "    def sound(self):\n",
        "        return \"Baa\"\n",
        "\n",
        "# Example usage\n",
        "cow = Cow()\n",
        "sheep = Sheep()\n",
        "\n",
        "print(\"Cow sound:\", cow.sound())\n",
        "print(\"Sheep sound:\", sheep.sound())"
      ],
      "metadata": {
        "colab": {
          "base_uri": "https://localhost:8080/"
        },
        "id": "N_5u9VlBmyw0",
        "outputId": "39688cc7-3dd9-4707-fc03-6715df953d97"
      },
      "execution_count": null,
      "outputs": [
        {
          "output_type": "stream",
          "name": "stdout",
          "text": [
            "Cow sound: Moo\n",
            "Sheep sound: Baa\n"
          ]
        }
      ]
    },
    {
      "cell_type": "code",
      "source": [
        "class Book:\n",
        "    def __init__(self, title, author, year_published):\n",
        "        self.title = title\n",
        "        self.author = author\n",
        "        self.year_published = year_published\n",
        "\n",
        "    def get_book_info(self):\n",
        "        return f\"'{self.title}' by {self.author}, published in {self.year_published}\"\n",
        "\n",
        "# Example usage\n",
        "book1 = Book(\"To Kill a Mockingbird\", \"Harper Lee\", 1960)\n",
        "print(book1.get_book_info())\n"
      ],
      "metadata": {
        "colab": {
          "base_uri": "https://localhost:8080/"
        },
        "id": "D1tkkwF8nGvy",
        "outputId": "5906c54e-0eb3-4953-cf2e-e7453c572f4a"
      },
      "execution_count": null,
      "outputs": [
        {
          "output_type": "stream",
          "name": "stdout",
          "text": [
            "'To Kill a Mockingbird' by Harper Lee, published in 1960\n"
          ]
        }
      ]
    },
    {
      "cell_type": "code",
      "source": [
        "# Base class\n",
        "class House:\n",
        "    def __init__(self, address, price):\n",
        "        self.address = address\n",
        "        self.price = price\n",
        "\n",
        "# Derived class\n",
        "class Mansion(House):\n",
        "    def __init__(self, address, price, number_of_rooms):\n",
        "        super().__init__(address, price)  # Initialize base class attributes\n",
        "        self.number_of_rooms = number_of_rooms\n",
        "\n",
        "# Example usage\n",
        "mansion1 = Mansion(\"123 Luxury Lane\", 50000000, 15)\n",
        "\n",
        "print(\"Address:\", mansion1.address)\n",
        "print(\"Price:\", mansion1.price)\n",
        "print(\"Number of Rooms:\", mansion1.number_of_rooms)"
      ],
      "metadata": {
        "colab": {
          "base_uri": "https://localhost:8080/"
        },
        "id": "MNyQwTEFnGq3",
        "outputId": "b0768e00-f3a0-47be-ca15-5f5602138512"
      },
      "execution_count": null,
      "outputs": [
        {
          "output_type": "stream",
          "name": "stdout",
          "text": [
            "Address: 123 Luxury Lane\n",
            "Price: 50000000\n",
            "Number of Rooms: 15\n"
          ]
        }
      ]
    }
  ]
}